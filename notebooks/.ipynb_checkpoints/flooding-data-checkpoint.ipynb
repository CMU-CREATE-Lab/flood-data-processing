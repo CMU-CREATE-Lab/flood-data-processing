{
 "cells": [
  {
   "cell_type": "code",
   "execution_count": 51,
   "metadata": {},
   "outputs": [],
   "source": [
    "import array, calendar, csv, math, time\n",
    "import pandas as pd\n",
    "\n",
    "def LonLatToPixelXY(lonlat):\n",
    "    (lon, lat) = lonlat\n",
    "    x = (lon + 180.0) * 256.0 / 360.0\n",
    "    y = 128.0 - math.log(math.tan((lat + 90.0) * math.pi / 360.0)) * 128.0 / math.pi\n",
    "    return [x, y]\n",
    "\n",
    "def FormatEpoch(datestr, formatstr):\n",
    "    return calendar.timegm(time.strptime(datestr, formatstr))\n",
    "\n",
    "def PackColor(color):    \n",
    "    return color[0] + color[1] * 256.0 + color[2] * 256.0 * 256.0;\n",
    "\n",
    "def hex2rgb(h):\n",
    "    return tuple(int(h.strip(\"#\")[i:i+2], 16) for i in (0, 2 ,4))\n"
   ]
  },
  {
   "cell_type": "code",
   "execution_count": 52,
   "metadata": {},
   "outputs": [
    {
     "name": "stdout",
     "output_type": "stream",
     "text": [
      "        ID GlideNumber          Country OtherCountry        long        lat  \\\n",
      "0        1           0          Algeria            0    5.230260  35.814200   \n",
      "1        2           0           Brazil            0  -45.348900 -18.711100   \n",
      "2        3           0      Phillipines            0  122.974000  10.020700   \n",
      "3        4           0        Indonesia            0  124.606000   1.014890   \n",
      "4        5           0       Mozambique            0   32.349100 -25.869300   \n",
      "5        6           0  Comoros islands            0   43.360000 -11.651600   \n",
      "6        7           0      New Zealand            0  175.734000 -37.230500   \n",
      "7        8           0        Indonesia            0  108.140000  -7.040080   \n",
      "8        9           0              USA            0  -85.174200  40.669100   \n",
      "9       10           0          Bolivia            0  -63.288700 -21.224400   \n",
      "10      11           0              USA            0  -89.553700  40.681400   \n",
      "11      12           0              USA            0 -108.093000  35.382400   \n",
      "12      13           0              USA            0  -96.784500  29.604400   \n",
      "13      14           0              USA            0  -83.537700  42.012200   \n",
      "14      15           0           Brazil            0  -48.098700  -4.135190   \n",
      "15      16           0              USA            0  -96.842500  28.580200   \n",
      "16      17           0            China            0  127.897000  48.091700   \n",
      "17      18           0              USA            0  -87.880500  46.493800   \n",
      "18      19           0              USA            0 -105.275000  34.862800   \n",
      "19      20           0              USA            0  -66.706000  18.229100   \n",
      "20      21           0            China            0  109.570000  25.669400   \n",
      "21      22           0        Argentina            0  -58.973500 -35.439200   \n",
      "22      23           0       Bangladesh            0   91.854200  24.649700   \n",
      "23      24           0              USA            0  -99.449400  33.697700   \n",
      "24      25           0              USA            0  -96.101100  36.358100   \n",
      "25      26           0      Philippines            0  120.916000  14.741700   \n",
      "26      27           0            India            0   75.093700  14.539800   \n",
      "27      28           0            China            0  109.974000  27.788200   \n",
      "28      29           0       Bangladesh            0   89.985300  22.617600   \n",
      "29      30           0     West Germany            0    6.509520  50.713400   \n",
      "...    ...         ...              ...          ...         ...        ...   \n",
      "4735  4738         NaN         Colombia          NaN  -74.999600   5.210790   \n",
      "4736  4739         NaN            China          NaN  113.175000  22.843900   \n",
      "4737  4740         NaN           Brazil          NaN  -43.204200 -22.684700   \n",
      "4738  4741         NaN     South Africa          NaN   29.269500 -27.023100   \n",
      "4739  4742         NaN            Spain          NaN   -0.076316  39.858600   \n",
      "4740  4743         NaN        Argentina          NaN  -60.549400 -26.854100   \n",
      "4741  4744         NaN           Canada          NaN  -72.574800  46.366000   \n",
      "4742  4746         NaN            India   Bangladesh   87.466200  21.542700   \n",
      "4743  4747         NaN              USA          NaN  -90.983900  38.393600   \n",
      "4744  4748         NaN              USA          NaN  -96.279000  30.312600   \n",
      "4745  4745         NaN       Mozambique          NaN   37.979200 -15.374600   \n",
      "4746  4749         NaN            Italy          NaN   12.542900  43.794700   \n",
      "4747  4750         NaN     Saudi Arabia          NaN   45.253800  18.539500   \n",
      "4748  4751         NaN              USA          NaN  -95.239800  36.709100   \n",
      "4749  4752         NaN            India          NaN   91.573600  23.499100   \n",
      "4750  4753         NaN      Afghanistan          NaN   67.894100  34.667800   \n",
      "4751  4754         NaN       Tajikistan  Afghanistan   69.353900  37.419800   \n",
      "4752  4755         NaN            China          NaN  111.319000  24.555400   \n",
      "4753  4756         NaN          Romania          NaN   26.653100  45.623700   \n",
      "4754  4757         NaN            Libya          NaN   12.691300  24.554700   \n",
      "4755  4758         NaN           Mexico          NaN -103.182000  20.175800   \n",
      "4756  4759         NaN           Bosnia       Serbia   19.297800  44.089300   \n",
      "4757  4760         NaN         Colombia          NaN  -73.861400   0.698152   \n",
      "4758  4761         NaN      Siwtzerland          NaN    7.124040  46.549700   \n",
      "4759  4762         NaN          Hungary          NaN   20.163900  47.262400   \n",
      "4760  4763         NaN           Poland          NaN   22.440300  51.798300   \n",
      "4761  4764         NaN           Turkey          NaN   41.047400  40.706200   \n",
      "4762  4765         NaN      Philippines          NaN  123.493000   8.222840   \n",
      "4763  4766         NaN         Mongolia          NaN  111.071000  47.203700   \n",
      "4764  4767         NaN          Uruguay          NaN  -55.971900 -32.744600   \n",
      "\n",
      "            Area      Began      Ended             Validation  Dead  \\\n",
      "0       92615.67 1985-01-01 1985-01-05                   News    26   \n",
      "1      678498.82 1985-01-15 1985-02-02                   News   229   \n",
      "2       12846.03 1985-01-20 1985-01-21                   News    43   \n",
      "3       16542.12 1985-02-04 1985-02-18                   News    21   \n",
      "4       20082.21 1985-02-09 1985-02-11                   News    19   \n",
      "5        1035.61 1985-02-16 1985-02-28                   News     2   \n",
      "6        7871.37 1985-02-17 1985-02-18                   News     4   \n",
      "7       77091.11 1985-02-19 1985-02-23                   News    10   \n",
      "8      210527.96 1985-02-22 1985-03-01                   News     7   \n",
      "9       69706.89 1985-02-25 1985-02-28                   News     2   \n",
      "10      26266.14 1985-03-03 1985-03-08                   News     4   \n",
      "11      26527.13 1985-03-13 1985-03-14                   News     0   \n",
      "12     141508.00 1985-03-14 1985-03-15                   News     0   \n",
      "13      16883.54 1985-03-30 1985-03-31                   News     0   \n",
      "14    1970402.21 1985-04-02 1985-04-17                   News    32   \n",
      "15      17192.76 1985-04-11 1985-04-12                   News     1   \n",
      "16     300325.08 1985-04-21 1985-04-29                   News     0   \n",
      "17       5123.72 1985-04-24 1985-04-25                   News     0   \n",
      "18     116344.02 1985-05-11 1985-05-12                   News     2   \n",
      "19       1423.92 1985-05-19 1985-05-20                   News     2   \n",
      "20     458666.21 1985-05-26 1985-06-06                   News    64   \n",
      "21      78653.41 1985-05-30 1985-06-01                   News    25   \n",
      "22       8910.30 1985-06-03 1985-06-22                   News     7   \n",
      "23      83470.44 1985-06-05 1985-06-06                   News     6   \n",
      "24       9865.44 1985-06-10 1985-06-11                   News     0   \n",
      "25       7768.19 1985-06-22 1985-06-30                   News    98   \n",
      "26     254234.60 1985-06-23 1985-06-27                   News    95   \n",
      "27     290679.68 1985-06-28 1985-07-10                   News   275   \n",
      "28       6446.85 1985-07-03 1985-07-04                   News     2   \n",
      "29       1927.64 1985-07-06 1985-07-07                   News     3   \n",
      "...          ...        ...        ...                    ...   ...   \n",
      "4735   517907.89 2019-04-01 2019-04-20              FloodList    10   \n",
      "4736    73166.82 2019-04-11 2019-04-20              FloodList     7   \n",
      "4737     8933.68 2019-04-07 2019-04-10              FloodList    10   \n",
      "4738   331714.49 2019-04-22 2019-04-23              FloodList     5   \n",
      "4739    53290.58 2019-04-18 2019-04-23              FloodList     0   \n",
      "4740   490723.50 2019-04-20 2019-04-23              FloodList     2   \n",
      "4741    28713.07 2019-04-19 2019-04-23  International Charter     1   \n",
      "4742   123330.04 2019-05-03 2019-05-07              FloodList    43   \n",
      "4743   429706.84 2019-04-30 2019-06-10              FloodList     2   \n",
      "4744    79587.68 2019-05-06 2019-05-14              FloodList     4   \n",
      "4745   194823.17 2019-04-30 2019-05-07              FloodList    38   \n",
      "4746    22050.47 2019-05-12 2019-05-14              FloodList     0   \n",
      "4747   238156.72 2019-05-22 2019-05-27              FloodLIst     1   \n",
      "4748   250078.73 2019-05-20 2019-05-27              FloodLIst     0   \n",
      "4749     9467.55 2019-05-24 2019-05-27              FloodLIst     0   \n",
      "4750   133359.74 2019-05-22 2019-05-26              FloodList    24   \n",
      "4751   106545.57 2019-06-04 2019-06-10              FloodList     5   \n",
      "4752   470032.43 2019-06-07 2019-06-10              FloodList    13   \n",
      "4753    88755.01 2019-05-31 2019-06-10              FloodList     0   \n",
      "4754   151026.83 2019-06-03 2019-06-10              FloodList     2   \n",
      "4755    34619.97 2019-06-02 2019-06-06              FloodLIst     5   \n",
      "4756    27244.66 2019-06-01 2019-06-05             Flood List     0   \n",
      "4757   193568.08 2019-06-21 2019-06-23              FloodList     2   \n",
      "4758     5258.68 2019-06-21 2019-06-24              FloodList     0   \n",
      "4759    14047.33 2019-06-19 2019-06-24              FloodList     0   \n",
      "4760    20826.64 2019-06-19 2019-06-23              FloodList     0   \n",
      "4761    12361.41 2019-06-18 2019-06-20              FloodList     3   \n",
      "4762     5390.18 2019-06-03 2019-06-23              FloodList     0   \n",
      "4763    85984.41 2019-06-15 2019-06-19              FloodList     0   \n",
      "4764    38380.48 2019-06-11 2019-06-24              FloodList     0   \n",
      "\n",
      "      Displaced                MainCause  Severity  \n",
      "0          3000               Heavy rain       1.0  \n",
      "1         80000               Heavy rain       2.0  \n",
      "2           444          Torrential rain       1.0  \n",
      "3           300          Torrential rain       1.0  \n",
      "4             0               Heavy rain       2.0  \n",
      "5         35000         Tropical cyclone       1.0  \n",
      "6           200               Heavy rain       1.0  \n",
      "7          2000               Heavy rain       1.0  \n",
      "8          2250        Rain and snowmelt       2.0  \n",
      "9          1000               Heavy Rain       1.0  \n",
      "10         2400        Rain and snowmelt       2.0  \n",
      "11           80        Rain and snowmelt       1.0  \n",
      "12            0               Heavy rain       1.0  \n",
      "13          300               Heavy rain       1.0  \n",
      "14       700000               Heavy rain       2.0  \n",
      "15          200               Heavy rain       1.0  \n",
      "16          200         Ice jam/break-up       1.0  \n",
      "17          400        Rain and snowmelt       2.0  \n",
      "18            0               Heavy rain       1.0  \n",
      "19         4500               Heavy rain       1.0  \n",
      "20        10000               Heavy rain       2.0  \n",
      "21       100000               Heavy rain       2.0  \n",
      "22       100000               Heavy rain       2.0  \n",
      "23          100               Heavy rain       1.0  \n",
      "24          320               Heavy rain       2.0  \n",
      "25       130000         Tropical cyclone       1.0  \n",
      "26        25000               Heavy rain       1.0  \n",
      "27        60000               Heavy rain       2.0  \n",
      "28        77000               Heavy rain       1.0  \n",
      "29            0               Heavy rain       1.0  \n",
      "...         ...                      ...       ...  \n",
      "4735          0          Torrential Rain       1.0  \n",
      "4736          0               Heavy Rain       1.0  \n",
      "4737          0          Torrential Rain       1.0  \n",
      "4738        500          Torrential Rain       1.5  \n",
      "4739        100          Torrential Rain       1.5  \n",
      "4740       1800          Torrential Rain       1.5  \n",
      "4741       1500  Heavy Rain and Ice Melt       1.5  \n",
      "4742    1400000    Tropical Cyclone Fani       1.5  \n",
      "4743          0               Heavy Rain       1.5  \n",
      "4744          0          Torrential Rain       1.5  \n",
      "4745      20000   Tropical Storm Kenneth       1.5  \n",
      "4746         20               Heavy Rain       1.0  \n",
      "4747         36          Torrential Rain       1.0  \n",
      "4748       4000               Heavy Rain       2.0  \n",
      "4749        750               Heavy Rain       1.5  \n",
      "4750       1500          Torrential Rain       1.5  \n",
      "4751         40          Torrential Rain       1.5  \n",
      "4752      50000           Monsoonal Rain       1.5  \n",
      "4753        260               Heavy Rain       1.0  \n",
      "4754       3000               Heavy Rain       1.5  \n",
      "4755       2000          Torrential Rain       1.5  \n",
      "4756        159               Heavy Rain       1.0  \n",
      "4757          0          Torrential Rain       1.0  \n",
      "4758          0          Torrential Rain       1.0  \n",
      "4759          0               Heavy Rain       1.0  \n",
      "4760         20          Torrential Rain       1.0  \n",
      "4761          0          Torrential Rain       1.5  \n",
      "4762      45000               Heavy Rain       1.5  \n",
      "4763          0               Heavy Rain       1.0  \n",
      "4764       5400               Heavy Rain       1.5  \n",
      "\n",
      "[4765 rows x 14 columns]\n"
     ]
    }
   ],
   "source": [
    "df = pd.read_excel(r'../data/FloodArchive.xlsx')\n",
    "print(df)"
   ]
  },
  {
   "cell_type": "code",
   "execution_count": 80,
   "metadata": {},
   "outputs": [],
   "source": [
    "# Area\n",
    "points = []\n",
    "for index, row in df.iterrows():\n",
    "    x,y = LonLatToPixelXY([float(row['long']), float(row['lat'])])\n",
    "    points.append(x)\n",
    "    points.append(y)\n",
    "    points.append(min(math.sqrt(row['Area']/100.0), 200))  \n",
    "    #points.append(50.0)\n",
    "    points.append(PackColor([1.0,0.85,0.05]))\n",
    "    points.append(FormatEpoch(str(row[\"Began\"]), '%Y-%m-%d %H:%M:%S' ))\n",
    "    points.append(FormatEpoch(str(row[\"Ended\"]), '%Y-%m-%d %H:%M:%S' ))\n",
    "array.array('f', points).tofile(open('../data/floodarea.bin', 'wb'))"
   ]
  },
  {
   "cell_type": "code",
   "execution_count": 81,
   "metadata": {},
   "outputs": [],
   "source": [
    "# Deaths\n",
    "points = []\n",
    "for index, row in df.iterrows():\n",
    "    x,y = LonLatToPixelXY([float(row['long']), float(row['lat'])])\n",
    "    points.append(x)\n",
    "    points.append(y)\n",
    "    points.append(min(math.sqrt(row['Area']/100.0), 200))  \n",
    "    #points.append(50.0)\n",
    "    points.append(PackColor([1.0,0.85,0.05]))\n",
    "    points.append(FormatEpoch(str(row[\"Began\"]), '%Y-%m-%d %H:%M:%S' ))\n",
    "    points.append(FormatEpoch(str(row[\"Ended\"]), '%Y-%m-%d %H:%M:%S' ))\n",
    "array.array('f', points).tofile(open('../data/floodarea.bin', 'wb'))"
   ]
  },
  {
   "cell_type": "code",
   "execution_count": 63,
   "metadata": {},
   "outputs": [
    {
     "data": {
      "text/plain": [
       "200"
      ]
     },
     "execution_count": 63,
     "metadata": {},
     "output_type": "execute_result"
    }
   ],
   "source": [
    "# Area\n",
    "points = []\n",
    "for index, row in df.iterrows():\n",
    "    x,y = LonLatToPixelXY([float(row['long']), float(row['lat'])])\n",
    "    points.append(x)\n",
    "    points.append(y)\n",
    "    points.append(min(math.sqrt(row['Area']/100.0), 200))  \n",
    "    #points.append(50.0)\n",
    "    points.append(PackColor([1.0,0.85,0.05]))\n",
    "    points.append(FormatEpoch(str(row[\"Began\"]), '%Y-%m-%d %H:%M:%S' ))\n",
    "    points.append(FormatEpoch(str(row[\"Ended\"]), '%Y-%m-%d %H:%M:%S' ))\n",
    "array.array('f', points).tofile(open('../data/floodarea.bin', 'wb'))"
   ]
  },
  {
   "cell_type": "code",
   "execution_count": 69,
   "metadata": {},
   "outputs": [
    {
     "data": {
      "text/plain": [
       "33681.92"
      ]
     },
     "execution_count": 69,
     "metadata": {},
     "output_type": "execute_result"
    }
   ],
   "source": [
    "df['Area'].median()"
   ]
  },
  {
   "cell_type": "code",
   "execution_count": 73,
   "metadata": {},
   "outputs": [
    {
     "data": {
      "text/plain": [
       "[131.71929599999999,\n",
       " 100.69066852401839,\n",
       " 30.43282274124436,\n",
       " 1.0,\n",
       " 473385600,\n",
       " 473731200,\n",
       " 95.75189333333333,\n",
       " 141.54868317728676,\n",
       " 82.37103981375978,\n",
       " 1.0]"
      ]
     },
     "execution_count": 73,
     "metadata": {},
     "output_type": "execute_result"
    }
   ],
   "source": [
    "points[0:10]"
   ]
  },
  {
   "cell_type": "code",
   "execution_count": 74,
   "metadata": {},
   "outputs": [
    {
     "data": {
      "text/plain": [
       "256.0"
      ]
     },
     "execution_count": 74,
     "metadata": {},
     "output_type": "execute_result"
    }
   ],
   "source": [
    "PackColor([0,1,0])"
   ]
  },
  {
   "cell_type": "code",
   "execution_count": 75,
   "metadata": {},
   "outputs": [
    {
     "data": {
      "text/plain": [
       "65536.0"
      ]
     },
     "execution_count": 75,
     "metadata": {},
     "output_type": "execute_result"
    }
   ],
   "source": [
    "PackColor([0,0,1])"
   ]
  },
  {
   "cell_type": "code",
   "execution_count": null,
   "metadata": {},
   "outputs": [],
   "source": []
  }
 ],
 "metadata": {
  "kernelspec": {
   "display_name": "Python 2",
   "language": "python",
   "name": "python2"
  },
  "language_info": {
   "codemirror_mode": {
    "name": "ipython",
    "version": 2
   },
   "file_extension": ".py",
   "mimetype": "text/x-python",
   "name": "python",
   "nbconvert_exporter": "python",
   "pygments_lexer": "ipython2",
   "version": "2.7.13"
  }
 },
 "nbformat": 4,
 "nbformat_minor": 2
}

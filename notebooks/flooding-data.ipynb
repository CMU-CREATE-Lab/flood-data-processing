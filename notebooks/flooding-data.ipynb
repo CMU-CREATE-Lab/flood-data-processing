{
 "cells": [
  {
   "cell_type": "code",
   "execution_count": 51,
   "metadata": {},
   "outputs": [],
   "source": [
    "import array, calendar, csv, math, time\n",
    "import pandas as pd\n",
    "\n",
    "def LonLatToPixelXY(lonlat):\n",
    "    (lon, lat) = lonlat\n",
    "    x = (lon + 180.0) * 256.0 / 360.0\n",
    "    y = 128.0 - math.log(math.tan((lat + 90.0) * math.pi / 360.0)) * 128.0 / math.pi\n",
    "    return [x, y]\n",
    "\n",
    "def FormatEpoch(datestr, formatstr):\n",
    "    return calendar.timegm(time.strptime(datestr, formatstr))\n",
    "\n",
    "def PackColor(color):    \n",
    "    return color[0] + color[1] * 256.0 + color[2] * 256.0 * 256.0;\n",
    "\n",
    "def hex2rgb(h):\n",
    "    return tuple(int(h.strip(\"#\")[i:i+2], 16) for i in (0, 2 ,4))\n"
   ]
  },
  {
   "cell_type": "code",
   "execution_count": 147,
   "metadata": {},
   "outputs": [],
   "source": [
    "df = pd.read_excel(r'../data/FloodArchive.xlsx')"
   ]
  },
  {
   "cell_type": "code",
   "execution_count": 144,
   "metadata": {},
   "outputs": [],
   "source": [
    "# Area\n",
    "points = []\n",
    "for index, row in df.iterrows():\n",
    "    x,y = LonLatToPixelXY([float(row['long']), float(row['lat'])])\n",
    "    points.append(x)\n",
    "    points.append(y)\n",
    "    points.append(min(math.sqrt(row['Area']/100.0), 200))  \n",
    "    #points.append(50.0)\n",
    "    points.append(PackColor([1.0,0.85,0.05]))\n",
    "    points.append(FormatEpoch(str(row[\"Began\"]), '%Y-%m-%d %H:%M:%S' ))\n",
    "    points.append(FormatEpoch(str(row[\"Ended\"]), '%Y-%m-%d %H:%M:%S' ))\n",
    "array.array('f', points).tofile(open('../data/floodarea.bin', 'wb'))"
   ]
  },
  {
   "cell_type": "code",
   "execution_count": 145,
   "metadata": {},
   "outputs": [],
   "source": [
    "# Deaths\n",
    "points = []\n",
    "for index, row in df.iterrows():\n",
    "    x,y = LonLatToPixelXY([float(row['long']), float(row['lat'])])\n",
    "    points.append(x)\n",
    "    points.append(y)\n",
    "    points.append(min(math.sqrt(row['Dead']), 200) + 1)  \n",
    "    #points.append(50.0)\n",
    "    points.append(PackColor([1.0,0.4,0.0]))\n",
    "    points.append(FormatEpoch(str(row[\"Began\"]), '%Y-%m-%d %H:%M:%S' ))\n",
    "    points.append(FormatEpoch(str(row[\"Ended\"]), '%Y-%m-%d %H:%M:%S' ))\n",
    "array.array('f', points).tofile(open('../data/flooddeaths.bin', 'wb'))"
   ]
  },
  {
   "cell_type": "code",
   "execution_count": 146,
   "metadata": {},
   "outputs": [],
   "source": [
    "# Displaced\n",
    "points = []\n",
    "for index, row in df.iterrows():\n",
    "    x,y = LonLatToPixelXY([float(row['long']), float(row['lat'])])\n",
    "    points.append(x)\n",
    "    points.append(y)\n",
    "    points.append(min(math.sqrt(row['Displaced']), 20))  \n",
    "    #points.append(50.0)\n",
    "    points.append(PackColor([1.0,0.85,0.05]))\n",
    "    points.append(FormatEpoch(str(row[\"Began\"]), '%Y-%m-%d %H:%M:%S' ))\n",
    "    points.append(FormatEpoch(str(row[\"Ended\"]), '%Y-%m-%d %H:%M:%S' ))\n",
    "array.array('f', points).tofile(open('../data/flooddisplaced.bin', 'wb'))"
   ]
  },
  {
   "cell_type": "code",
   "execution_count": null,
   "metadata": {},
   "outputs": [],
   "source": []
  },
  {
   "cell_type": "code",
   "execution_count": null,
   "metadata": {},
   "outputs": [],
   "source": []
  }
 ],
 "metadata": {
  "kernelspec": {
   "display_name": "Python 2",
   "language": "python",
   "name": "python2"
  },
  "language_info": {
   "codemirror_mode": {
    "name": "ipython",
    "version": 2
   },
   "file_extension": ".py",
   "mimetype": "text/x-python",
   "name": "python",
   "nbconvert_exporter": "python",
   "pygments_lexer": "ipython2",
   "version": "2.7.13"
  }
 },
 "nbformat": 4,
 "nbformat_minor": 2
}
